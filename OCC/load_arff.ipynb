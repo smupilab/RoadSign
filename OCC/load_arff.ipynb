{
 "cells": [
  {
   "cell_type": "code",
   "execution_count": 10,
   "metadata": {},
   "outputs": [
    {
     "name": "stdout",
     "output_type": "stream",
     "text": [
      "87524.0\n",
      "442.2460114\n",
      "253.291155\n",
      "0.819738392\n",
      "90546.0\n",
      "0.758650579\n",
      "1184.04\n",
      "b'Kecimen'\n"
     ]
    }
   ],
   "source": [
    "from scipy.io import arff\n",
    "import pandas as pd\n",
    "\n",
    "path = \"F:/backup/LAB/datasets/Raisin_Dataset/Raisin_Dataset.arff\"\n",
    "data = arff.loadarff(path)\n",
    "df = pd.DataFrame(data)\n",
    "\n",
    "for i in df[0][0]:\n",
    "    print(i)"
   ]
  },
  {
   "cell_type": "code",
   "execution_count": null,
   "metadata": {},
   "outputs": [],
   "source": []
  }
 ],
 "metadata": {
  "kernelspec": {
   "display_name": "Python 3",
   "language": "python",
   "name": "python3"
  },
  "language_info": {
   "codemirror_mode": {
    "name": "ipython",
    "version": 3
   },
   "file_extension": ".py",
   "mimetype": "text/x-python",
   "name": "python",
   "nbconvert_exporter": "python",
   "pygments_lexer": "ipython3",
   "version": "3.10.8"
  },
  "orig_nbformat": 4
 },
 "nbformat": 4,
 "nbformat_minor": 2
}
