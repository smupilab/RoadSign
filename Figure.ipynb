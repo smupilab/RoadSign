{
 "cells": [
  {
   "cell_type": "code",
   "execution_count": 8,
   "metadata": {},
   "outputs": [],
   "source": [
    "import torch\n",
    "import torch.nn as nn\n",
    "import torchvision\n",
    "import torchvision.datasets as datasets\n",
    "import torchvision.transforms as transforms\n",
    "import torch.nn.init\n",
    "import matplotlib.pyplot as plt\n",
    "\n",
    "from torch.utils.data import DataLoader\n",
    "from torch.autograd import Variable\n",
    "from PIL import Image\n",
    "from tqdm import tqdm\n",
    "from torchsummary import summary\n",
    "\n",
    "import numpy as np\n",
    "\n",
    "\n",
    "# GPU 설정\n",
    "device = 'cuda' if torch.cuda.is_available() else 'cpu'\n",
    "\n",
    "# 랜덤 시드 고정   \n",
    "torch.manual_seed(123)\n",
    "\n",
    "# GPU 사용 가능일 경우 랜덤 시드 고정\n",
    "if device == 'cuda':\n",
    "    torch.cuda.manual_seed_all(123)"
   ]
  },
  {
   "cell_type": "code",
   "execution_count": 9,
   "metadata": {},
   "outputs": [],
   "source": [
    "preprocess = transforms.Compose([\n",
    "    transforms.Resize(28),\n",
    "    \n",
    "    transforms.CenterCrop(28),\n",
    "    transforms.ToTensor(),\n",
    "])"
   ]
  },
  {
   "cell_type": "code",
   "execution_count": 10,
   "metadata": {},
   "outputs": [],
   "source": [
    "shape_label = {\n",
    "    0 : 'circle',\n",
    "    1 : 'square',\n",
    "    2 : 'triangle',\n",
    "}"
   ]
  },
  {
   "cell_type": "code",
   "execution_count": 11,
   "metadata": {},
   "outputs": [],
   "source": [
    "#dataload\n",
    "\n",
    "shapes = torchvision.datasets.ImageFolder(root = \"D:/backup/LAB/datasets/RoadSign/shapes2\", transform=preprocess)\n",
    "shapes_trainloader = torch.utils.data.DataLoader(shapes,batch_size=16,shuffle=True)\n",
    "\n",
    "test = torchvision.datasets.ImageFolder(root='D:/backup/LAB/datasets/RoadSign/shapes_test', transform=preprocess)\n",
    "shapes_testloader = torch.utils.data.DataLoader(test)\n"
   ]
  },
  {
   "cell_type": "code",
   "execution_count": 29,
   "metadata": {},
   "outputs": [
    {
     "name": "stdout",
     "output_type": "stream",
     "text": [
      "2\n"
     ]
    },
    {
     "data": {
      "text/plain": [
       "<matplotlib.image.AxesImage at 0x22415fefb50>"
      ]
     },
     "execution_count": 29,
     "metadata": {},
     "output_type": "execute_result"
    },
    {
     "data": {
      "image/png": "[encoded data removed]",
      "text/plain": [
       "<Figure size 640x480 with 1 Axes>"
      ]
     },
     "metadata": {},
     "output_type": "display_data"
    }
   ],
   "source": [
    "print(test[77][1])\n",
    "plt.imshow(test[77][0][0])"
   ]
  },
  {
   "cell_type": "code",
   "execution_count": 12,
   "metadata": {},
   "outputs": [],
   "source": [
    "#INPUT IMAGE : 28,28,3\n",
    "class CNN(nn.Module):\n",
    "    def __init__(self):\n",
    "        super(CNN, self).__init__()\n",
    "    \n",
    "        self.conv1 = nn.Sequential(\n",
    "            nn.Conv2d(in_channels = 3,out_channels=32,kernel_size=3,padding=1),\n",
    "            nn.ReLU(),\n",
    "            nn.Conv2d(32,32,3),\n",
    "            nn.ReLU(),\n",
    "            nn.MaxPool2d(kernel_size=2),\n",
    "            nn.Dropout(p=0.5)\n",
    "        )\n",
    "        \n",
    "        self.conv2 = nn.Sequential(\n",
    "            nn.Conv2d(32,64,3,padding=1),\n",
    "            nn.ReLU(),\n",
    "            nn.Conv2d(64,64,3),\n",
    "            nn.ReLU(),\n",
    "            nn.MaxPool2d(kernel_size=2),\n",
    "            nn.Dropout(p=0.5)\n",
    "        )\n",
    "        \n",
    "        self.conv3 = nn.Sequential(\n",
    "            nn.Conv2d(64,64,3,padding=1),\n",
    "            nn.ReLU(),\n",
    "            nn.Conv2d(64,64,3),\n",
    "            nn.ReLU(),\n",
    "            nn.MaxPool2d(kernel_size=2),\n",
    "            nn.Dropout(p=0.5)\n",
    "        )\n",
    "        \n",
    "        self.dense = nn.Sequential(\n",
    "            nn.Linear(64,512),\n",
    "            nn.Dropout(p=0.5),\n",
    "            nn.Linear(512,3)\n",
    "        )\n",
    "    def forward(self,x):\n",
    "        out = self.conv1(x)\n",
    "        out = self.conv2(out)\n",
    "        out = self.conv3(out)\n",
    "        out = out.view(out.size(0), -1)\n",
    "        out = self.dense(out)\n",
    "        \n",
    "        \n",
    "        return out\n"
   ]
  },
  {
   "cell_type": "code",
   "execution_count": 13,
   "metadata": {},
   "outputs": [
    {
     "name": "stdout",
     "output_type": "stream",
     "text": [
      "총 배치의 수 : 701\n"
     ]
    }
   ],
   "source": [
    "#deer CNN 모델 정의\n",
    "model = CNN().to(device)\n",
    "\n",
    "criterion = torch.nn.CrossEntropyLoss()\n",
    "optimizer = torch.optim.Adam(model.parameters(),lr=0.0001)\n",
    "\n",
    "total_batch = len(shapes_trainloader)\n",
    "print('총 배치의 수 : {}'.format(total_batch))\n"
   ]
  },
  {
   "cell_type": "code",
   "execution_count": 14,
   "metadata": {},
   "outputs": [
    {
     "name": "stdout",
     "output_type": "stream",
     "text": [
      "----------------------------------------------------------------\n",
      "        Layer (type)               Output Shape         Param #\n",
      "================================================================\n",
      "            Conv2d-1           [-1, 32, 28, 28]             896\n",
      "              ReLU-2           [-1, 32, 28, 28]               0\n",
      "            Conv2d-3           [-1, 32, 26, 26]           9,248\n",
      "              ReLU-4           [-1, 32, 26, 26]               0\n",
      "         MaxPool2d-5           [-1, 32, 13, 13]               0\n",
      "           Dropout-6           [-1, 32, 13, 13]               0\n",
      "            Conv2d-7           [-1, 64, 13, 13]          18,496\n",
      "              ReLU-8           [-1, 64, 13, 13]               0\n",
      "            Conv2d-9           [-1, 64, 11, 11]          36,928\n",
      "             ReLU-10           [-1, 64, 11, 11]               0\n",
      "        MaxPool2d-11             [-1, 64, 5, 5]               0\n",
      "          Dropout-12             [-1, 64, 5, 5]               0\n",
      "           Conv2d-13             [-1, 64, 5, 5]          36,928\n",
      "             ReLU-14             [-1, 64, 5, 5]               0\n",
      "           Conv2d-15             [-1, 64, 3, 3]          36,928\n",
      "             ReLU-16             [-1, 64, 3, 3]               0\n",
      "        MaxPool2d-17             [-1, 64, 1, 1]               0\n",
      "          Dropout-18             [-1, 64, 1, 1]               0\n",
      "           Linear-19                  [-1, 512]          33,280\n",
      "          Dropout-20                  [-1, 512]               0\n",
      "           Linear-21                    [-1, 3]           1,539\n",
      "================================================================\n",
      "Total params: 174,243\n",
      "Trainable params: 174,243\n",
      "Non-trainable params: 0\n",
      "----------------------------------------------------------------\n",
      "Input size (MB): 0.01\n",
      "Forward/backward pass size (MB): 1.15\n",
      "Params size (MB): 0.66\n",
      "Estimated Total Size (MB): 1.82\n",
      "----------------------------------------------------------------\n"
     ]
    }
   ],
   "source": [
    "summary(model,(3,28,28))"
   ]
  },
  {
   "cell_type": "code",
   "execution_count": 21,
   "metadata": {},
   "outputs": [],
   "source": [
    "EPOCH = 10\n",
    "PATH = 'D:/backup/LAB/code/RoadSign/model.pt'\n",
    "LOSS = 0.4\n",
    "\n",
    "torch.save({\n",
    "            'epoch': EPOCH,\n",
    "            'model_state_dict': model.state_dict(),\n",
    "            'optimizer_state_dict': optimizer.state_dict(),\n",
    "            'loss': LOSS,\n",
    "            }, PATH)"
   ]
  },
  {
   "cell_type": "code",
   "execution_count": 22,
   "metadata": {},
   "outputs": [
    {
     "name": "stderr",
     "output_type": "stream",
     "text": [
      " 10%|█         | 1/10 [00:27<04:08, 27.64s/it]"
     ]
    },
    {
     "name": "stdout",
     "output_type": "stream",
     "text": [
      "[Epoch:    1] cost = 0.273829609\n"
     ]
    },
    {
     "name": "stderr",
     "output_type": "stream",
     "text": [
      " 20%|██        | 2/10 [00:55<03:42, 27.76s/it]"
     ]
    },
    {
     "name": "stdout",
     "output_type": "stream",
     "text": [
      "[Epoch:    2] cost = 0.104249358\n"
     ]
    },
    {
     "name": "stderr",
     "output_type": "stream",
     "text": [
      " 30%|███       | 3/10 [01:23<03:14, 27.79s/it]"
     ]
    },
    {
     "name": "stdout",
     "output_type": "stream",
     "text": [
      "[Epoch:    3] cost = 0.0460637473\n"
     ]
    },
    {
     "name": "stderr",
     "output_type": "stream",
     "text": [
      " 40%|████      | 4/10 [01:51<02:46, 27.78s/it]"
     ]
    },
    {
     "name": "stdout",
     "output_type": "stream",
     "text": [
      "[Epoch:    4] cost = 0.0250574909\n"
     ]
    },
    {
     "name": "stderr",
     "output_type": "stream",
     "text": [
      " 50%|█████     | 5/10 [02:18<02:19, 27.80s/it]"
     ]
    },
    {
     "name": "stdout",
     "output_type": "stream",
     "text": [
      "[Epoch:    5] cost = 0.0171548259\n"
     ]
    },
    {
     "name": "stderr",
     "output_type": "stream",
     "text": [
      " 60%|██████    | 6/10 [02:46<01:51, 27.89s/it]"
     ]
    },
    {
     "name": "stdout",
     "output_type": "stream",
     "text": [
      "[Epoch:    6] cost = 0.0127637526\n"
     ]
    },
    {
     "name": "stderr",
     "output_type": "stream",
     "text": [
      " 70%|███████   | 7/10 [03:15<01:23, 27.98s/it]"
     ]
    },
    {
     "name": "stdout",
     "output_type": "stream",
     "text": [
      "[Epoch:    7] cost = 0.0122318761\n"
     ]
    },
    {
     "name": "stderr",
     "output_type": "stream",
     "text": [
      " 80%|████████  | 8/10 [03:43<00:56, 28.03s/it]"
     ]
    },
    {
     "name": "stdout",
     "output_type": "stream",
     "text": [
      "[Epoch:    8] cost = 0.00789607409\n"
     ]
    },
    {
     "name": "stderr",
     "output_type": "stream",
     "text": [
      " 90%|█████████ | 9/10 [04:11<00:28, 28.18s/it]"
     ]
    },
    {
     "name": "stdout",
     "output_type": "stream",
     "text": [
      "[Epoch:    9] cost = 0.00566776004\n"
     ]
    },
    {
     "name": "stderr",
     "output_type": "stream",
     "text": [
      "100%|██████████| 10/10 [04:41<00:00, 28.11s/it]"
     ]
    },
    {
     "name": "stdout",
     "output_type": "stream",
     "text": [
      "[Epoch:   10] cost = 0.00421946868\n"
     ]
    },
    {
     "name": "stderr",
     "output_type": "stream",
     "text": [
      "\n"
     ]
    }
   ],
   "source": [
    "# Train model\n",
    "for epoch in tqdm(range(EPOCH)):\n",
    "    avg_cost = 0\n",
    "\n",
    "    for X, Y in shapes_trainloader:\n",
    "        X = X.to(device)\n",
    "        Y = Y.to(device)\n",
    "\n",
    "        optimizer.zero_grad()\n",
    "        hypothesis = model(X)\n",
    "        cost = criterion(hypothesis, Y)\n",
    "        cost.backward()\n",
    "        optimizer.step()\n",
    "\n",
    "        avg_cost += cost / total_batch\n",
    "\n",
    "    print('[Epoch: {:>4}] cost = {:>.9}'.format(epoch + 1, avg_cost))"
   ]
  },
  {
   "cell_type": "code",
   "execution_count": 24,
   "metadata": {},
   "outputs": [
    {
     "name": "stdout",
     "output_type": "stream",
     "text": [
      "원형 -> 삼각형 :  0\n",
      "원형 -> 사각형 :  0\n",
      "사각형 -> 원형 :  0\n",
      "사각형 -> 삼각형 :  0\n",
      "삼각형 -> 원형 :  43\n",
      "삼각형 -> 사각형 :  19\n",
      "45 / 107\n"
     ]
    }
   ],
   "source": [
    "correct = 0\n",
    "total = 0\n",
    "\n",
    "circle2square = 0\n",
    "circle2triangle = 0\n",
    "triangle2square = 0\n",
    "triangle2circle = 0\n",
    "square2triangle = 0\n",
    "square2circle = 0\n",
    "\n",
    "for X, Y in shapes_testloader:\n",
    "    X = X.to(device)\n",
    "    Y = Y.to(device)\n",
    "\n",
    "    prediction = model(X)\n",
    "    predicted = torch.argmax(prediction, 1)\n",
    "    \n",
    "    # if Y.item() == 3:\n",
    "    #     correct+=1\n",
    "        \n",
    "    if predicted.item() == Y.item():\n",
    "        correct+=1\n",
    "        \n",
    "    else:\n",
    "        if predicted.item() == 0:\n",
    "            if Y.item() == 1:\n",
    "                circle2square+=1\n",
    "            else:\n",
    "                circle2triangle+=1\n",
    "        elif predicted.item() == 1:\n",
    "            if Y.item() == 2:\n",
    "                square2triangle+=1\n",
    "            else:\n",
    "                square2circle+=1\n",
    "        else:\n",
    "            if Y.item() == 0:\n",
    "                triangle2circle+=1\n",
    "            else:\n",
    "                triangle2square+=1\n",
    "    total+=1\n",
    "    \n",
    "print(\"원형 -> 삼각형 : \", circle2triangle)\n",
    "print(\"원형 -> 사각형 : \", circle2square)\n",
    "\n",
    "print(\"사각형 -> 원형 : \", square2circle)\n",
    "print(\"사각형 -> 삼각형 : \", square2triangle)\n",
    "\n",
    "print(\"삼각형 -> 원형 : \", triangle2circle)\n",
    "print(\"삼각형 -> 사각형 : \", triangle2square)\n",
    "print(correct, '/', total)\n"
   ]
  },
  {
   "cell_type": "code",
   "execution_count": null,
   "metadata": {},
   "outputs": [],
   "source": []
  }
 ],
 "metadata": {
  "kernelspec": {
   "display_name": "Python 3",
   "language": "python",
   "name": "python3"
  },
  "language_info": {
   "codemirror_mode": {
    "name": "ipython",
    "version": 3
   },
   "file_extension": ".py",
   "mimetype": "text/x-python",
   "name": "python",
   "nbconvert_exporter": "python",
   "pygments_lexer": "ipython3",
   "version": "3.11.0"
  },
  "orig_nbformat": 4
 },
 "nbformat": 4,
 "nbformat_minor": 2
}
